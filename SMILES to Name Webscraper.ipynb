{
 "cells": [
  {
   "cell_type": "code",
   "execution_count": null,
   "id": "9946c758",
   "metadata": {},
   "outputs": [],
   "source": [
    "import requests\n",
    "import pandas as pd\n",
    "import re\n",
    "from time import sleep"
   ]
  },
  {
   "cell_type": "code",
   "execution_count": null,
   "id": "e94308b5",
   "metadata": {},
   "outputs": [],
   "source": [
    "df = pd.read_excel('data/Heteroaromatics.xlsx')\n",
    "df"
   ]
  },
  {
   "cell_type": "code",
   "execution_count": null,
   "id": "44211cbd",
   "metadata": {},
   "outputs": [],
   "source": [
    "name_list = []\n",
    "for smile in df['Smiles']:\n",
    "    smile = re.sub('[#]', '%23', smile) # The tripple bond character \"#\" has to be escaped by %23\n",
    "    url = f'https://cactus.nci.nih.gov/chemical/structure/{smile}/names'\n",
    "    print(f'Looking for Name of {smile}')\n",
    "    try:\n",
    "        names = requests.get(url).text\n",
    "        name = names.partition('\\n')[0]\n",
    "    except BaseException as err:\n",
    "        name = ''\n",
    "        print(f'Error: {err}')\n",
    "    name_list.append(name)\n",
    "    sleep(1) # No rules for data scraping were found on the page. As required by courtesy, a delay of 1s was used.\n",
    "print('Finished!')    \n"
   ]
  },
  {
   "cell_type": "code",
   "execution_count": null,
   "id": "81034418",
   "metadata": {},
   "outputs": [],
   "source": [
    "final_df = pd.concat([pd.DataFrame(name_list, columns=(['Name'])), df], axis=1)\n",
    "final_df"
   ]
  },
  {
   "cell_type": "code",
   "execution_count": null,
   "id": "8864704b",
   "metadata": {},
   "outputs": [],
   "source": [
    "final_df.to_excel('data/Heteroaromatics_Named.xlsx', index=False)"
   ]
  }
 ],
 "metadata": {
  "kernelspec": {
   "display_name": "Python 3 (ipykernel)",
   "language": "python",
   "name": "python3"
  },
  "language_info": {
   "codemirror_mode": {
    "name": "ipython",
    "version": 3
   },
   "file_extension": ".py",
   "mimetype": "text/x-python",
   "name": "python",
   "nbconvert_exporter": "python",
   "pygments_lexer": "ipython3",
   "version": "3.11.7"
  }
 },
 "nbformat": 4,
 "nbformat_minor": 5
}
